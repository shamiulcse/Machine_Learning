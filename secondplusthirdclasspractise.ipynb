{
 "cells": [
  {
   "cell_type": "code",
   "execution_count": 3,
   "id": "566e1a86-1e0b-401c-9408-d73bb8a78c80",
   "metadata": {},
   "outputs": [
    {
     "name": "stdout",
     "output_type": "stream",
     "text": [
      "Area of BD is: 147570 sq km\n"
     ]
    }
   ],
   "source": [
    "n=147570\n",
    "string_2=\"Area of BD is:\"\n",
    "print(string_2,n,'sq km')"
   ]
  },
  {
   "cell_type": "code",
   "execution_count": 4,
   "id": "83168258-5ae2-4185-bb85-72d7b12ea709",
   "metadata": {},
   "outputs": [
    {
     "name": "stdout",
     "output_type": "stream",
     "text": [
      "Area of BD is:147570 sq.km\n"
     ]
    }
   ],
   "source": [
    "print(f\"{string_2}{n} sq.km\")"
   ]
  },
  {
   "cell_type": "code",
   "execution_count": 5,
   "id": "4a0b87bc-45f8-4fcc-923e-45e3e0c01a3b",
   "metadata": {},
   "outputs": [
    {
     "ename": "SyntaxError",
     "evalue": "unterminated string literal (detected at line 1) (3299272644.py, line 1)",
     "output_type": "error",
     "traceback": [
      "\u001b[1;36m  Cell \u001b[1;32mIn[5], line 1\u001b[1;36m\u001b[0m\n\u001b[1;33m    print(f\"Area of BD is:{n} sq.km)\u001b[0m\n\u001b[1;37m          ^\u001b[0m\n\u001b[1;31mSyntaxError\u001b[0m\u001b[1;31m:\u001b[0m unterminated string literal (detected at line 1)\n"
     ]
    }
   ],
   "source": [
    "print(f\"Area of BD is:{n} sq.km)"
   ]
  },
  {
   "cell_type": "code",
   "execution_count": 6,
   "id": "e787c990-be06-46fb-9c76-648ec069a398",
   "metadata": {},
   "outputs": [
    {
     "data": {
      "text/plain": [
       "'banglawash'"
      ]
     },
     "execution_count": 6,
     "metadata": {},
     "output_type": "execute_result"
    }
   ],
   "source": [
    "s1=\"bangla\"\n",
    "s2=\"wash\"\n",
    "s1+s2"
   ]
  },
  {
   "cell_type": "code",
   "execution_count": 7,
   "id": "2b7768e4-9263-4ab1-b55e-38a42cf9d0a4",
   "metadata": {},
   "outputs": [
    {
     "data": {
      "text/plain": [
       "'bangla-wash'"
      ]
     },
     "execution_count": 7,
     "metadata": {},
     "output_type": "execute_result"
    }
   ],
   "source": [
    "s1+'-'+s2"
   ]
  },
  {
   "cell_type": "code",
   "execution_count": 8,
   "id": "45da384d-1f09-49b3-8675-630c91de317e",
   "metadata": {},
   "outputs": [
    {
     "data": {
      "text/plain": [
       "6"
      ]
     },
     "execution_count": 8,
     "metadata": {},
     "output_type": "execute_result"
    }
   ],
   "source": [
    "len(s1)"
   ]
  },
  {
   "cell_type": "code",
   "execution_count": 10,
   "id": "c830c481-9f2d-40a6-98f3-e5039eab2e6a",
   "metadata": {},
   "outputs": [
    {
     "data": {
      "text/plain": [
       "'bangla-wash'"
      ]
     },
     "execution_count": 10,
     "metadata": {},
     "output_type": "execute_result"
    }
   ],
   "source": [
    "washed=s1+'-'+s2\n",
    "washed"
   ]
  },
  {
   "cell_type": "code",
   "execution_count": 11,
   "id": "1ad01636-d403-429f-a315-4716fdd1f8b7",
   "metadata": {},
   "outputs": [
    {
     "data": {
      "text/plain": [
       "['b', 'ngl', '-w', 'sh']"
      ]
     },
     "execution_count": 11,
     "metadata": {},
     "output_type": "execute_result"
    }
   ],
   "source": [
    "\n",
    "washed.split('a')"
   ]
  },
  {
   "cell_type": "code",
   "execution_count": 12,
   "id": "6d9081e9-d6b7-4517-ac4e-4d985c2ef58b",
   "metadata": {},
   "outputs": [
    {
     "data": {
      "text/plain": [
       "7"
      ]
     },
     "execution_count": 12,
     "metadata": {},
     "output_type": "execute_result"
    }
   ],
   "source": [
    "washed.find(\"wash\")"
   ]
  },
  {
   "cell_type": "code",
   "execution_count": 13,
   "id": "a652b3ac-989a-46a0-8191-a6af4c97da82",
   "metadata": {},
   "outputs": [
    {
     "name": "stdout",
     "output_type": "stream",
     "text": [
      "10\n"
     ]
    }
   ],
   "source": [
    "a=10\n",
    "b=5\n",
    "if a>b:\n",
    "    print(a)"
   ]
  },
  {
   "cell_type": "code",
   "execution_count": 14,
   "id": "a33dc5e3-ac1c-448e-93cf-21a9194060ba",
   "metadata": {},
   "outputs": [
    {
     "name": "stdout",
     "output_type": "stream",
     "text": [
      "10\n"
     ]
    }
   ],
   "source": [
    "a=10\n",
    "b=5\n",
    "if a>b:\n",
    "    print(a)\n",
    "else:\n",
    "    print(b)"
   ]
  },
  {
   "cell_type": "code",
   "execution_count": 15,
   "id": "fcb90ce7-0abb-4425-a4a6-c4ddfc433615",
   "metadata": {},
   "outputs": [
    {
     "name": "stdout",
     "output_type": "stream",
     "text": [
      "50\n"
     ]
    }
   ],
   "source": [
    "a=10\n",
    "b=50\n",
    "if a>b:\n",
    "    print(a)\n",
    "else:\n",
    "    print(b)"
   ]
  },
  {
   "cell_type": "code",
   "execution_count": 16,
   "id": "0d9a660a-db9c-4084-8057-2efade5b1178",
   "metadata": {},
   "outputs": [
    {
     "name": "stdout",
     "output_type": "stream",
     "text": [
      "b\n"
     ]
    }
   ],
   "source": [
    "a=10\n",
    "b=50\n",
    "if a>b:\n",
    "    print(\"a\")\n",
    "else:\n",
    "    print(\"b\")"
   ]
  },
  {
   "cell_type": "code",
   "execution_count": 17,
   "id": "0fe02866-8511-4a1c-9f95-65bb5e916a5d",
   "metadata": {},
   "outputs": [
    {
     "name": "stdout",
     "output_type": "stream",
     "text": [
      "equal\n"
     ]
    }
   ],
   "source": [
    "a=10\n",
    "b=10\n",
    "if a>b:\n",
    "    print(\"a\")\n",
    "elif a==b:\n",
    "    print(\"equal\")\n",
    "else:\n",
    "    print(\"b\")"
   ]
  },
  {
   "cell_type": "code",
   "execution_count": 18,
   "id": "af53e5cc-3d33-4bb3-a0e0-cf8d28a2982a",
   "metadata": {},
   "outputs": [
    {
     "name": "stdout",
     "output_type": "stream",
     "text": [
      "b\n"
     ]
    }
   ],
   "source": [
    "a=10\n",
    "b=50\n",
    "if a>b:\n",
    "    print(\"a\")\n",
    "elif a==b:\n",
    "    print(\"equal\")\n",
    "else:\n",
    "    print(\"b\")"
   ]
  },
  {
   "cell_type": "code",
   "execution_count": 19,
   "id": "6fb4c578-8aec-41a4-9525-3af93aa3846d",
   "metadata": {},
   "outputs": [
    {
     "ename": "SyntaxError",
     "evalue": "invalid syntax (1160966247.py, line 5)",
     "output_type": "error",
     "traceback": [
      "\u001b[1;36m  Cell \u001b[1;32mIn[19], line 5\u001b[1;36m\u001b[0m\n\u001b[1;33m    else:\u001b[0m\n\u001b[1;37m    ^\u001b[0m\n\u001b[1;31mSyntaxError\u001b[0m\u001b[1;31m:\u001b[0m invalid syntax\n"
     ]
    }
   ],
   "source": [
    "#nested if\n",
    "c=15\n",
    "if a>b:\n",
    "   print(\"a\")\n",
    "   else:\n",
    "    print(\"c\")\n",
    "else:\n",
    "if b>c:\n",
    "    print(\"b\")\n",
    "    else\n",
    "    print(\"c\")"
   ]
  },
  {
   "cell_type": "code",
   "execution_count": 21,
   "id": "9a53f811-9f43-4c84-8007-e30d8148056a",
   "metadata": {},
   "outputs": [
    {
     "ename": "SyntaxError",
     "evalue": "invalid syntax (3294767411.py, line 7)",
     "output_type": "error",
     "traceback": [
      "\u001b[1;36m  Cell \u001b[1;32mIn[21], line 7\u001b[1;36m\u001b[0m\n\u001b[1;33m    else:\u001b[0m\n\u001b[1;37m    ^\u001b[0m\n\u001b[1;31mSyntaxError\u001b[0m\u001b[1;31m:\u001b[0m invalid syntax\n"
     ]
    }
   ],
   "source": [
    "c=15\n",
    "if a>b:\n",
    "    if a>c:\n",
    "        print(\"a\")\n",
    "    else:\n",
    "        print(\"c\")\n",
    "    else:\n",
    "    if b>c:\n",
    "    print(\"b\")\n",
    "    else:\n",
    "    print(\"c\")"
   ]
  },
  {
   "cell_type": "code",
   "execution_count": null,
   "id": "5ad4d4ea-0232-4863-beba-8d2f88a5954f",
   "metadata": {},
   "outputs": [],
   "source": [
    "#loop\n",
    "n=1\n",
    "while n<=10:\n",
    "    print(n)\n",
    "     n=n+1"
   ]
  },
  {
   "cell_type": "code",
   "execution_count": null,
   "id": "5afbba5c-3c3e-4c72-8d83-1f4227e0d60e",
   "metadata": {},
   "outputs": [],
   "source": [
    "n=1\n",
    "while n<=10:\n",
    "    print(n)\n",
    "    n=n+1\n",
    "print(\"done\")"
   ]
  },
  {
   "cell_type": "code",
   "execution_count": null,
   "id": "e95b625e-1fd6-4c7f-92ed-d51badfda82a",
   "metadata": {},
   "outputs": [],
   "source": [
    "i = 1\n",
    "while i < 6:\n",
    "  print(i)\n",
    "  i += 1"
   ]
  },
  {
   "cell_type": "code",
   "execution_count": null,
   "id": "ef2cf54f-a93e-4bcb-bc91-f63f330e5098",
   "metadata": {},
   "outputs": [],
   "source": [
    "print(\"bangla\")"
   ]
  },
  {
   "cell_type": "code",
   "execution_count": null,
   "id": "04675c71-c7e1-4fe0-872f-22874b24053c",
   "metadata": {},
   "outputs": [],
   "source": []
  },
  {
   "cell_type": "code",
   "execution_count": null,
   "id": "2e4da0af-29e9-4a77-ac2d-e0e4479a484f",
   "metadata": {},
   "outputs": [],
   "source": []
  },
  {
   "cell_type": "code",
   "execution_count": null,
   "id": "a77b9163-045b-4a53-9e8a-93b0db8f733f",
   "metadata": {},
   "outputs": [],
   "source": [
    "a=10\n",
    "b=23\n",
    "print(a+b)"
   ]
  },
  {
   "cell_type": "code",
   "execution_count": null,
   "id": "219d7d4b-b3c0-450b-85ef-053678e3444d",
   "metadata": {},
   "outputs": [],
   "source": []
  }
 ],
 "metadata": {
  "kernelspec": {
   "display_name": "Python 3 (ipykernel)",
   "language": "python",
   "name": "python3"
  },
  "language_info": {
   "codemirror_mode": {
    "name": "ipython",
    "version": 3
   },
   "file_extension": ".py",
   "mimetype": "text/x-python",
   "name": "python",
   "nbconvert_exporter": "python",
   "pygments_lexer": "ipython3",
   "version": "3.10.10"
  }
 },
 "nbformat": 4,
 "nbformat_minor": 5
}
