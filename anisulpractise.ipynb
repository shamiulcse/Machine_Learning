{
 "cells": [
  {
   "cell_type": "code",
   "execution_count": 4,
   "id": "e86f85c1-c4d0-4584-bf1e-f8270d56af4a",
   "metadata": {},
   "outputs": [
    {
     "name": "stdin",
     "output_type": "stream",
     "text": [
      "Enter your name:  shamiul\n",
      "Enter your age:  34\n",
      "Enter your gpa:  3.43\n"
     ]
    },
    {
     "name": "stdout",
     "output_type": "stream",
     "text": [
      "Student Information\n",
      "---------------------\n",
      "shamiul\n",
      "34\n",
      "3.43\n"
     ]
    }
   ],
   "source": [
    "name=input(\"Enter your name: \")\n",
    "age=input(\"Enter your age: \")\n",
    "gpa=input(\"Enter your gpa: \")\n",
    "print(\"Student Information\")\n",
    "print(\"---------------------\")\n",
    "print(name)\n",
    "print(age)\n",
    "print(gpa)"
   ]
  },
  {
   "cell_type": "code",
   "execution_count": 5,
   "id": "1e7b1f35-48e8-473c-9aba-3c8079ae929a",
   "metadata": {},
   "outputs": [
    {
     "name": "stdin",
     "output_type": "stream",
     "text": [
      "Enter base of your triange:  12\n",
      "Enter hight of your triange:  34\n"
     ]
    },
    {
     "name": "stdout",
     "output_type": "stream",
     "text": [
      "204.0\n"
     ]
    }
   ],
   "source": [
    "#calculation of triangle\n",
    "base=int(input(\"Enter base of your triange: \"))\n",
    "hight=int(input(\"Enter hight of your triange: \"))\n",
    "area_of_square=float(0.5*base*hight)\n",
    "print(area_of_square)"
   ]
  },
  {
   "cell_type": "code",
   "execution_count": 6,
   "id": "81eccd22-e2f5-4cf0-b7c7-c01a0acfb694",
   "metadata": {},
   "outputs": [
    {
     "name": "stdout",
     "output_type": "stream",
     "text": [
      "Pass\n",
      "Congratulations!\n",
      "End of program\n"
     ]
    }
   ],
   "source": [
    "marks=80\n",
    "if marks>=33:\n",
    "    print(\"Pass\")\n",
    "    print(\"Congratulations!\")\n",
    "if marks<33:\n",
    "    print(\"Fail\")\n",
    "    print(\"You have to study a lot\")\n",
    "print(\"End of program\")"
   ]
  },
  {
   "cell_type": "code",
   "execution_count": 7,
   "id": "2555c07d-8c26-423a-ad49-336a20ef980e",
   "metadata": {},
   "outputs": [
    {
     "name": "stdin",
     "output_type": "stream",
     "text": [
      "Enter your marks:  87\n"
     ]
    },
    {
     "name": "stdout",
     "output_type": "stream",
     "text": [
      "Pass\n",
      "Congratulations!\n",
      "End of program\n"
     ]
    }
   ],
   "source": [
    "marks=int(input(\"Enter your marks: \"))\n",
    "if marks>=33:\n",
    "    print(\"Pass\")\n",
    "    print(\"Congratulations!\")\n",
    "if marks<33:\n",
    "    print(\"Fail\")\n",
    "    print(\"You have to study a lot\")\n",
    "print(\"End of program\")"
   ]
  },
  {
   "cell_type": "code",
   "execution_count": 8,
   "id": "5207181e-7b98-47dd-9279-073d357099fd",
   "metadata": {},
   "outputs": [
    {
     "name": "stdout",
     "output_type": "stream",
     "text": [
      "Fail\n",
      "Bad luck for you\n",
      "Program end here\n"
     ]
    }
   ],
   "source": [
    "marks=20\n",
    "if marks>33:\n",
    "    print(\"Pass\")\n",
    "    print(\"Congratulations!\")\n",
    "else:\n",
    "    print(\"Fail\")\n",
    "    print(\"Bad luck for you\")\n",
    "print(\"Program end here\")"
   ]
  },
  {
   "cell_type": "code",
   "execution_count": 9,
   "id": "3ffaa13f-1490-47a7-ad71-1666712bfb8e",
   "metadata": {},
   "outputs": [
    {
     "name": "stdout",
     "output_type": "stream",
     "text": [
      "22\n"
     ]
    }
   ],
   "source": [
    "number1=10\n",
    "number2=22\n",
    "if number1>number2:\n",
    "    print(number1)\n",
    "else:\n",
    "    print(number2)"
   ]
  },
  {
   "cell_type": "code",
   "execution_count": 11,
   "id": "fbc7443c-6f36-45f7-8a8c-c5f50a882391",
   "metadata": {},
   "outputs": [
    {
     "name": "stdin",
     "output_type": "stream",
     "text": [
      "Enter your number to check wheather it is odd or even 23\n"
     ]
    },
    {
     "name": "stdout",
     "output_type": "stream",
     "text": [
      "Your entered number is even\n"
     ]
    }
   ],
   "source": [
    "number=int(input(\"Enter your number to check wheather it is odd or even\"))\n",
    "if number%2==0:\n",
    "    print(\"Your entered number is odd\")\n",
    "else:\n",
    "    print(\"Your entered number is even\")"
   ]
  },
  {
   "cell_type": "code",
   "execution_count": 14,
   "id": "1d0b7cc2-f7d1-4177-a1dd-03154e20a925",
   "metadata": {},
   "outputs": [
    {
     "name": "stdin",
     "output_type": "stream",
     "text": [
      "Enter your obtained number:  34\n"
     ]
    },
    {
     "name": "stdout",
     "output_type": "stream",
     "text": [
      "You obtained D\n"
     ]
    }
   ],
   "source": [
    "marks=int(input(\"Enter your obtained number: \"))\n",
    "if marks>=80:\n",
    "    print(\"You obtained A+\")\n",
    "elif marks>=70:\n",
    "    print(\"You obtained A\")\n",
    "elif marks>=60:\n",
    "    print(\"You obtained A-\")\n",
    "elif marks>=50:\n",
    "    print(\"You obtained B\")\n",
    "elif marks>=40:\n",
    "    print(\"You obtained C\")\n",
    "elif marks>=33:\n",
    "    print(\"You obtained D\")\n",
    "else:\n",
    "    print(\"You have successfully failed!\")"
   ]
  },
  {
   "cell_type": "code",
   "execution_count": 20,
   "id": "bf8ae70b-8fb1-4307-867b-7f9f278761e6",
   "metadata": {},
   "outputs": [
    {
     "name": "stdin",
     "output_type": "stream",
     "text": [
      "Enter your obtained number:  110\n"
     ]
    },
    {
     "name": "stdout",
     "output_type": "stream",
     "text": [
      "Invalid Number\n",
      "Program end here\n"
     ]
    }
   ],
   "source": [
    "#Letter Grade program\n",
    "marks=int(input(\"Enter your obtained number: \"))\n",
    "if marks>100:\n",
    "    print(\"Invalid Number\")\n",
    "elif marks>=80 and marks<=100:\n",
    "    print(\"Congratulations!You have got A+\")\n",
    "elif marks>=70 and marks<=79:\n",
    "    print(\"Congratulations!You have got A\")\n",
    "elif marks>=60 and marks<=69:\n",
    "    print(\"Congratulations!You have got A-\")\n",
    "elif marks>=50 and marks<=59:\n",
    "    print(\"Congratulations!You have got B\")\n",
    "elif marks>=40 and marks<=49:\n",
    "    print(\"Congratulations!You have got C\")\n",
    "elif marks>=33 and marks<=39:\n",
    "    print(\"Congratulations!You have got D\")\n",
    "elif marks>=0 and marks<=32:\n",
    "    print(\"Faild\")\n",
    "print(\"Program end here\")\n"
   ]
  },
  {
   "cell_type": "code",
   "execution_count": 21,
   "id": "cdbc00c8-0aab-41d6-8dcd-46cdeab3efb1",
   "metadata": {},
   "outputs": [
    {
     "name": "stdout",
     "output_type": "stream",
     "text": [
      "1\n",
      "2\n",
      "3\n",
      "4\n",
      "5\n",
      "6\n",
      "7\n",
      "8\n",
      "9\n",
      "10\n",
      "End here\n"
     ]
    }
   ],
   "source": [
    "#while loop\n",
    "i=1\n",
    "while i<=10:\n",
    "    print(i)\n",
    "    i=i+1\n",
    "print(\"End here\")"
   ]
  },
  {
   "cell_type": "code",
   "execution_count": 23,
   "id": "985c5f1d-e0c8-4344-aa8c-b360de30b59f",
   "metadata": {},
   "outputs": [
    {
     "name": "stdout",
     "output_type": "stream",
     "text": [
      "55\n",
      "end here\n"
     ]
    }
   ],
   "source": [
    "#sum of seris by while loop\n",
    "i=1\n",
    "sum=0\n",
    "while i<=10:\n",
    "    sum=sum+i\n",
    "    i=i+1\n",
    "print(sum)\n",
    "print(\"end here\")"
   ]
  },
  {
   "cell_type": "code",
   "execution_count": 34,
   "id": "2c9483cf-5463-44c4-88d8-5bfcc6ffc31e",
   "metadata": {},
   "outputs": [
    {
     "name": "stdin",
     "output_type": "stream",
     "text": [
      "Enter the last value:  10\n"
     ]
    },
    {
     "name": "stdout",
     "output_type": "stream",
     "text": [
      "55\n",
      "End here\n"
     ]
    }
   ],
   "source": [
    "#for loop\n",
    "n=int(input(\"Enter the last value: \"))\n",
    "sum=0\n",
    "for x in range(1,n+1,1):\n",
    "    sum=sum+x\n",
    "print(sum)\n",
    "print(\"End here\")\n",
    "    "
   ]
  },
  {
   "cell_type": "code",
   "execution_count": null,
   "id": "307c19ca-1cc9-412e-a3e4-b1e13f826f72",
   "metadata": {},
   "outputs": [],
   "source": []
  }
 ],
 "metadata": {
  "kernelspec": {
   "display_name": "Python 3 (ipykernel)",
   "language": "python",
   "name": "python3"
  },
  "language_info": {
   "codemirror_mode": {
    "name": "ipython",
    "version": 3
   },
   "file_extension": ".py",
   "mimetype": "text/x-python",
   "name": "python",
   "nbconvert_exporter": "python",
   "pygments_lexer": "ipython3",
   "version": "3.10.10"
  }
 },
 "nbformat": 4,
 "nbformat_minor": 5
}
