{
 "cells": [
  {
   "cell_type": "code",
   "execution_count": 1,
   "id": "02b25324-e7db-4030-80b0-f2b310a43ab9",
   "metadata": {},
   "outputs": [],
   "source": [
    "#Create a numPy ndarray object:\n",
    "import numpy as np"
   ]
  },
  {
   "cell_type": "code",
   "execution_count": 2,
   "id": "4043ae1e-83f2-434a-9d7c-e6357561868e",
   "metadata": {},
   "outputs": [
    {
     "name": "stdout",
     "output_type": "stream",
     "text": [
      "[1 2 3 4 5]\n",
      "<class 'numpy.ndarray'>\n"
     ]
    }
   ],
   "source": [
    "arr=np.array([1,2,3,4,5])\n",
    "print(arr)\n",
    "print(type(arr))"
   ]
  },
  {
   "cell_type": "code",
   "execution_count": 3,
   "id": "46c2e112-8039-4bfd-b334-21eb512a0952",
   "metadata": {},
   "outputs": [
    {
     "name": "stdout",
     "output_type": "stream",
     "text": [
      "[1 2 3 4 5]\n"
     ]
    }
   ],
   "source": [
    "#Use a tuple to create a numPy array:\n",
    "arrjim=np.array([1,2,3,4,5])\n",
    "print(arrjim)"
   ]
  },
  {
   "cell_type": "code",
   "execution_count": 4,
   "id": "a6d1bdc6-ca77-4a84-acb4-2ecabbad6912",
   "metadata": {},
   "outputs": [
    {
     "name": "stdout",
     "output_type": "stream",
     "text": [
      "42\n"
     ]
    }
   ],
   "source": [
    "#Dimensions in Array: 0-D Array\n",
    "arr1=np.array(42)\n",
    "print(arr1)"
   ]
  },
  {
   "cell_type": "code",
   "execution_count": 6,
   "id": "a3e0d573-1a14-4e1a-9205-1ab07b98ceaf",
   "metadata": {},
   "outputs": [
    {
     "name": "stdout",
     "output_type": "stream",
     "text": [
      "[1 2 3 4 5]\n"
     ]
    }
   ],
   "source": [
    "#1-D Arrays:\n",
    "arr2=np.array([1,2,3,4,5])\n",
    "print(arr2)"
   ]
  },
  {
   "cell_type": "code",
   "execution_count": 9,
   "id": "479f87f3-3c92-4742-9d0b-a2ea7e28f50f",
   "metadata": {},
   "outputs": [
    {
     "name": "stdout",
     "output_type": "stream",
     "text": [
      "[[1 2 3]\n",
      " [4 5 6]]\n"
     ]
    }
   ],
   "source": [
    "#2-D Array\n",
    "arr3=np.array([[1,2,3],[4,5,6]])\n",
    "print(arr3)"
   ]
  },
  {
   "cell_type": "code",
   "execution_count": 11,
   "id": "7002277a-d9a9-424f-bfb6-4d25e369fe5d",
   "metadata": {},
   "outputs": [
    {
     "name": "stdout",
     "output_type": "stream",
     "text": [
      "[[[ 7  8  9]\n",
      "  [10 11 12]\n",
      "  [13 14 15]]]\n"
     ]
    }
   ],
   "source": [
    "#3D Array:\n",
    "arr4=np.array([[[7,8,9],[10,11,12],[13,14,15]]])\n",
    "print(arr4)"
   ]
  },
  {
   "cell_type": "code",
   "execution_count": 13,
   "id": "f79881a8-c0fd-4c4f-b62c-b157c05864c3",
   "metadata": {},
   "outputs": [
    {
     "name": "stdout",
     "output_type": "stream",
     "text": [
      "0\n",
      "1\n",
      "2\n",
      "3\n"
     ]
    }
   ],
   "source": [
    "#Check the number of Dimensions: with ndim attribute\n",
    "a=np.array(42)\n",
    "b=np.array([1,2,3,4,5])\n",
    "c=np.array([[1,2,3],[4,5,6]])\n",
    "d=np.array([[[1,2,3],[4,5,6],[7,8,9]]])\n",
    "print(a.ndim)\n",
    "print(b.ndim)\n",
    "print(c.ndim)\n",
    "print(d.ndim)"
   ]
  },
  {
   "cell_type": "code",
   "execution_count": 18,
   "id": "9eacb8d9-9897-4b66-8e14-ac9e36035a16",
   "metadata": {},
   "outputs": [
    {
     "name": "stdout",
     "output_type": "stream",
     "text": [
      "[[1 2 3 4]\n",
      " [5 6 7 8]]\n",
      "number of dimensions:  2\n"
     ]
    }
   ],
   "source": [
    "#Higher Dimensional Arrays with ndim arguments\n",
    "#Acces 1-D array:\n",
    "arr5=np.array([[1,2,3,4],[5,6,7,8]])\n",
    "print(arr5)\n",
    "print('number of dimensions: ',arr5.ndim)"
   ]
  },
  {
   "cell_type": "code",
   "execution_count": 20,
   "id": "08ac7b38-1e2f-478e-b083-5e5a00d49c27",
   "metadata": {},
   "outputs": [
    {
     "name": "stdout",
     "output_type": "stream",
     "text": [
      "3\n"
     ]
    }
   ],
   "source": [
    "#NumPy Array Indexing:\n",
    "#Frst element:\n",
    "arr6=np.array([1,2,3,4,5])\n",
    "print(arr6[2])"
   ]
  },
  {
   "cell_type": "code",
   "execution_count": 21,
   "id": "f8fba1ee-f299-49f9-833c-10e984de5f39",
   "metadata": {},
   "outputs": [
    {
     "name": "stdout",
     "output_type": "stream",
     "text": [
      "7\n"
     ]
    }
   ],
   "source": [
    "#Third and Fourth elements from the followning arrays and add them:\n",
    "arr8=np.array([1,2,3,4])\n",
    "print(arr8[2]+arr8[3])"
   ]
  },
  {
   "cell_type": "code",
   "execution_count": 25,
   "id": "2246e152-c38d-4bba-88ff-e20255c08750",
   "metadata": {},
   "outputs": [
    {
     "name": "stdout",
     "output_type": "stream",
     "text": [
      "Second element on first row:  8\n"
     ]
    }
   ],
   "source": [
    "#Access 2-D Arrays:\n",
    "arr9=np.array([[1,2,3,4],[5,6,7,8]])\n",
    "print(\"Second element on first row: \",arr9[1,3])"
   ]
  },
  {
   "cell_type": "code",
   "execution_count": 26,
   "id": "5627de14-145e-4609-b4c8-15adb6e240b7",
   "metadata": {},
   "outputs": [
    {
     "name": "stdout",
     "output_type": "stream",
     "text": [
      "6\n"
     ]
    }
   ],
   "source": [
    "#Access 3D Array:\n",
    "#Access the lelement of the second array of the first array\n",
    "arr1=np.array([[[1,2,3],[4,5,6],[7,8,9],[10,11,12]]])\n",
    "print(arr1[0,1,2])"
   ]
  },
  {
   "cell_type": "code",
   "execution_count": 27,
   "id": "527c72e9-696a-42db-b477-8fcdaa9d813b",
   "metadata": {},
   "outputs": [
    {
     "name": "stdout",
     "output_type": "stream",
     "text": [
      "[2 3 4 5]\n"
     ]
    }
   ],
   "source": [
    "#NumPy Array Sclicing\n",
    "#Slicing means taking elements from one given index to another given index\n",
    "#[start:end]\n",
    "#Sclicing elements from index 1 to index 5 from the following array:\n",
    "arr12=np.array([1,2,3,4,5,6,7])\n",
    "print(arr12[1:5])"
   ]
  },
  {
   "cell_type": "code",
   "execution_count": 28,
   "id": "aac2abd1-6098-41c8-808e-07f682021e09",
   "metadata": {},
   "outputs": [
    {
     "name": "stdout",
     "output_type": "stream",
     "text": [
      "[5 6 7]\n"
     ]
    }
   ],
   "source": [
    "#Slice elements from index 4 to the end of the array\n",
    "arr13=np.array([1,2,3,4,5,6,7])\n",
    "print(arr13[4:])"
   ]
  },
  {
   "cell_type": "code",
   "execution_count": 29,
   "id": "534a8e22-d328-437e-9135-63f56d847647",
   "metadata": {},
   "outputs": [
    {
     "name": "stdout",
     "output_type": "stream",
     "text": [
      "[1 2 3 4]\n"
     ]
    }
   ],
   "source": [
    "#Slice elements from index begeining to 4\n",
    "arr14=np.array([1,2,3,4,5,6,7])\n",
    "print(arr14[:4])"
   ]
  },
  {
   "cell_type": "code",
   "execution_count": 30,
   "id": "536fb784-59ac-451c-878c-d8e07d57361e",
   "metadata": {},
   "outputs": [
    {
     "name": "stdout",
     "output_type": "stream",
     "text": [
      "[ 9 10 11]\n"
     ]
    }
   ],
   "source": [
    "#Slice 2D Arrays:\n",
    "#From the second element, slice elelments from index 1 to index 4\n",
    "arr15=np.array([[1,2,3,4,5,6,7],[8,9,10,11,12,13,14]])\n",
    "print(arr15[1,1:4])"
   ]
  },
  {
   "cell_type": "code",
   "execution_count": 31,
   "id": "cef9bed4-0493-494e-9ce4-48e56b75e6f7",
   "metadata": {},
   "outputs": [
    {
     "name": "stdout",
     "output_type": "stream",
     "text": [
      "[3 8]\n"
     ]
    }
   ],
   "source": [
    "#From both elements return index 2:\n",
    "arr16=np.array([[1,2,3,4,5],[6,7,8,9,10]])\n",
    "print(arr16[0:2,2])"
   ]
  },
  {
   "cell_type": "code",
   "execution_count": 34,
   "id": "ec775a2e-43f9-43c1-9a96-04291e38befe",
   "metadata": {},
   "outputs": [
    {
     "name": "stdout",
     "output_type": "stream",
     "text": [
      "[42  2  3  4  5]\n",
      "[1 2 3 4 5]\n"
     ]
    }
   ],
   "source": [
    "#NumPy Array copy vs view\n",
    "#copy\n",
    "arr19=np.array([1,2,3,4,5])\n",
    "x=arr19.copy()\n",
    "arr19[0]=42\n",
    "#x=arr19.copy()\n",
    "print(arr19)\n",
    "print(x)"
   ]
  },
  {
   "cell_type": "code",
   "execution_count": 35,
   "id": "8fdbe824-4062-4b03-9045-b4d595dabcc0",
   "metadata": {},
   "outputs": [
    {
     "name": "stdout",
     "output_type": "stream",
     "text": [
      "[77  2  3  4  5  6]\n",
      "[77  2  3  4  5  6]\n"
     ]
    }
   ],
   "source": [
    "#View\n",
    "arr20=np.array([1,2,3,4,5,6])\n",
    "x=arr20.view()\n",
    "arr20[0]=77\n",
    "print(arr20)\n",
    "print(x)"
   ]
  },
  {
   "cell_type": "raw",
   "id": "be39e00b-660a-4329-ba74-8439535a3715",
   "metadata": {},
   "source": [
    "#Numpy Array Shape:\n",
    "#Print the shape of a 2D aArray:\n",
    "arr21=np.array([[1,2,3,4],[5,6,7,8]])\n",
    "print(arr21.shape)"
   ]
  },
  {
   "cell_type": "code",
   "execution_count": 39,
   "id": "ae602db6-1463-4e4d-bc39-88d74079baf8",
   "metadata": {},
   "outputs": [
    {
     "name": "stdout",
     "output_type": "stream",
     "text": [
      "(2, 4)\n"
     ]
    }
   ],
   "source": [
    "#Numpy Array Shape:\n",
    "#Print the shape of a 2D aArray:\n",
    "arr21=np.array([[1,2,3,4],[5,6,7,8]])\n",
    "print(arr21.shape)"
   ]
  },
  {
   "cell_type": "code",
   "execution_count": 40,
   "id": "5854c69f-64d3-4195-9dcc-b5ba57747fc5",
   "metadata": {},
   "outputs": [
    {
     "name": "stdout",
     "output_type": "stream",
     "text": [
      "(2, 4)\n"
     ]
    }
   ],
   "source": [
    "#Numpy Array Shape:\n",
    "#Print the shape of a 2D aArray:\n",
    "arr21=np.array([[1,2,3,4],[5,6,7,8]])\n",
    "print(arr21.shape)"
   ]
  },
  {
   "cell_type": "code",
   "execution_count": 43,
   "id": "8815d627-d668-44dc-8594-37b743bfe963",
   "metadata": {},
   "outputs": [
    {
     "name": "stdout",
     "output_type": "stream",
     "text": [
      "[[1 2 3 4]\n",
      " [5 6 7 8]]\n"
     ]
    }
   ],
   "source": [
    "#Numpy Array Shape:\n",
    "#Print the shape of a 2D aArray:\n",
    "arr22=np.array([1,2,3,4,5,6,7,8])\n",
    "newarr=arr22.reshape(2,4)\n",
    "print(newarr)"
   ]
  },
  {
   "cell_type": "code",
   "execution_count": 45,
   "id": "442d14de-5ae5-447a-9bb6-f28ebb58f228",
   "metadata": {},
   "outputs": [
    {
     "name": "stdout",
     "output_type": "stream",
     "text": [
      "[[[ 1  2]\n",
      "  [ 3  4]\n",
      "  [ 5  6]]\n",
      "\n",
      " [[ 7  8]\n",
      "  [ 9 10]\n",
      "  [11 12]]]\n"
     ]
    }
   ],
   "source": [
    "#Numpy Array Shape:\n",
    "#Print the shape of a 3D aArray:\n",
    "arr23=np.array([1,2,3,4,5,6,7,8,9,10,11,12])\n",
    "newarr1=arr23.reshape(2,3,2)\n",
    "print(newarr1)"
   ]
  },
  {
   "cell_type": "code",
   "execution_count": 46,
   "id": "b143a8be-4fb2-4425-8ed5-ff623d1470a1",
   "metadata": {},
   "outputs": [
    {
     "name": "stdout",
     "output_type": "stream",
     "text": [
      "1\n",
      "2\n",
      "3\n"
     ]
    }
   ],
   "source": [
    "#NumPy Array Iterating:\n",
    "arr24=np.array([1,2,3])\n",
    "for x in arr24:\n",
    "    print(x)"
   ]
  },
  {
   "cell_type": "code",
   "execution_count": 47,
   "id": "633f5dcc-7ef6-4b7a-8083-3fb80eaa1826",
   "metadata": {},
   "outputs": [
    {
     "name": "stdout",
     "output_type": "stream",
     "text": [
      "[1 2 3]\n",
      "[4 5 6]\n"
     ]
    }
   ],
   "source": [
    "#Iterating 2D Arrays:\n",
    "arr25=np.array([[1,2,3],[4,5,6]])\n",
    "for x in arr25:\n",
    "    print(x)"
   ]
  },
  {
   "cell_type": "code",
   "execution_count": 48,
   "id": "ed8e297e-bf41-4c2e-a4d4-f52e6fb4ed13",
   "metadata": {},
   "outputs": [
    {
     "name": "stdout",
     "output_type": "stream",
     "text": [
      "[[1 2 3]\n",
      " [4 5 6]\n",
      " [7 8 9]]\n"
     ]
    }
   ],
   "source": [
    "#Iterating 3D Arrays:\n",
    "arr26=np.array([[[1,2,3],[4,5,6],[7,8,9]]])\n",
    "for x in arr26:\n",
    "    print(x)"
   ]
  },
  {
   "cell_type": "code",
   "execution_count": 50,
   "id": "1fa6a3f7-805e-41ea-8497-65debe67a055",
   "metadata": {},
   "outputs": [
    {
     "name": "stdout",
     "output_type": "stream",
     "text": [
      "[1 2 3 4 5 6]\n"
     ]
    }
   ],
   "source": [
    "#NumPy Joining Array:\n",
    "#Join two arrays:\n",
    "arr27=np.array([1,2,3])\n",
    "arr28=np.array([4,5,6])\n",
    "arr29=np.concatenate((arr27,arr28))\n",
    "print(arr29)"
   ]
  },
  {
   "cell_type": "code",
   "execution_count": 51,
   "id": "8b195d28-7456-4c4e-8f2a-90c1b66d1be4",
   "metadata": {},
   "outputs": [
    {
     "name": "stdout",
     "output_type": "stream",
     "text": [
      "[array([1, 2]), array([3, 4]), array([5, 6])]\n"
     ]
    }
   ],
   "source": [
    "#Numpy spliting array:\n",
    "#split the array in 3 parts:\n",
    "arr33=np.array([1,2,3,4,5,6])\n",
    "newarr4=np.array_split(arr33,3)\n",
    "print(newarr4)"
   ]
  },
  {
   "cell_type": "code",
   "execution_count": 53,
   "id": "db7307a9-d58a-4e9c-86c8-361d23de02ef",
   "metadata": {},
   "outputs": [
    {
     "name": "stdout",
     "output_type": "stream",
     "text": [
      "(array([3], dtype=int64),)\n"
     ]
    }
   ],
   "source": [
    "#NumPy Searching Arrays:\n",
    "#Find the indexes where the value is 4:\n",
    "arr35=np.array([1,2,3,4,5,6,7])\n",
    "x=np.where(arr35==4)\n",
    "print(x)"
   ]
  },
  {
   "cell_type": "code",
   "execution_count": 55,
   "id": "f9ddf511-0638-49c9-9d93-bc8c06590618",
   "metadata": {},
   "outputs": [
    {
     "name": "stdout",
     "output_type": "stream",
     "text": [
      "(array([1, 3, 5, 7, 9], dtype=int64),)\n"
     ]
    }
   ],
   "source": [
    "#NumPy Searching Arrays:\n",
    "#Find the indexes where the values are even:\n",
    "arr36=np.array([1,2,3,4,5,6,7,8,9,10])\n",
    "x1=np.where(arr36%2==0)\n",
    "print(x1)"
   ]
  },
  {
   "cell_type": "code",
   "execution_count": 56,
   "id": "1adaed98-d9d8-4c9e-a34f-367006768347",
   "metadata": {},
   "outputs": [
    {
     "name": "stdout",
     "output_type": "stream",
     "text": [
      "(array([0, 2, 4, 6, 8], dtype=int64),)\n"
     ]
    }
   ],
   "source": [
    "#NumPy Searching Arrays:\n",
    "#Find the indexes where the values are odd:\n",
    "arr37=np.array([1,2,3,4,5,6,7,8,9,10])\n",
    "x2=np.where(arr36%2==1)\n",
    "print(x2)"
   ]
  },
  {
   "cell_type": "code",
   "execution_count": 57,
   "id": "3873de33-29fa-4138-8825-f6035bb7b5ca",
   "metadata": {},
   "outputs": [
    {
     "name": "stdout",
     "output_type": "stream",
     "text": [
      "[2 3 4 5 6 7 8 9]\n"
     ]
    }
   ],
   "source": [
    "#NumPy Sorting Arrays: with sort() function\n",
    "arr38=np.array([9,8,7,6,5,4,3,2])\n",
    "print(np.sort(arr38))"
   ]
  },
  {
   "cell_type": "code",
   "execution_count": 58,
   "id": "b4d5034d-1f6c-4da6-bb3f-4aed5301ce90",
   "metadata": {},
   "outputs": [
    {
     "name": "stdout",
     "output_type": "stream",
     "text": [
      "[2 3 4 5 6 7 8 9]\n"
     ]
    }
   ],
   "source": [
    "#NumPy Sorting Arrays: with sort() function\n",
    "arr38=np.array([9,8,7,6,5,4,3,2])\n",
    "x3=np.sort(arr38)\n",
    "print(x3)"
   ]
  },
  {
   "cell_type": "code",
   "execution_count": null,
   "id": "a319bfe4-60f3-4239-bcac-edebbd089303",
   "metadata": {},
   "outputs": [],
   "source": []
  }
 ],
 "metadata": {
  "kernelspec": {
   "display_name": "Python 3 (ipykernel)",
   "language": "python",
   "name": "python3"
  },
  "language_info": {
   "codemirror_mode": {
    "name": "ipython",
    "version": 3
   },
   "file_extension": ".py",
   "mimetype": "text/x-python",
   "name": "python",
   "nbconvert_exporter": "python",
   "pygments_lexer": "ipython3",
   "version": "3.10.10"
  }
 },
 "nbformat": 4,
 "nbformat_minor": 5
}
