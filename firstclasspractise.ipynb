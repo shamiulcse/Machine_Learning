{
 "cells": [
  {
   "cell_type": "code",
   "execution_count": 1,
   "id": "ffe64aaa-36b4-4dee-a4ca-5134767f1af4",
   "metadata": {},
   "outputs": [
    {
     "ename": "NameError",
     "evalue": "name 'a' is not defined",
     "output_type": "error",
     "traceback": [
      "\u001b[1;31m---------------------------------------------------------------------------\u001b[0m",
      "\u001b[1;31mNameError\u001b[0m                                 Traceback (most recent call last)",
      "Cell \u001b[1;32mIn[1], line 3\u001b[0m\n\u001b[0;32m      1\u001b[0m x\u001b[38;5;241m=\u001b[39m\u001b[38;5;241m5\u001b[39m\n\u001b[0;32m      2\u001b[0m y\u001b[38;5;241m=\u001b[39m\u001b[38;5;241m10.5\u001b[39m\n\u001b[1;32m----> 3\u001b[0m \u001b[38;5;28msum\u001b[39m\u001b[38;5;241m=\u001b[39m\u001b[43ma\u001b[49m\u001b[38;5;241m+\u001b[39mb\n\u001b[0;32m      4\u001b[0m \u001b[38;5;28mprint\u001b[39m(\u001b[38;5;28msum\u001b[39m)\n",
      "\u001b[1;31mNameError\u001b[0m: name 'a' is not defined"
     ]
    }
   ],
   "source": [
    "x=5\n",
    "y=10.5\n",
    "sum=a+b\n",
    "print(sum)"
   ]
  },
  {
   "cell_type": "code",
   "execution_count": 2,
   "id": "3456ed13-3eab-45eb-9002-6f909538682f",
   "metadata": {},
   "outputs": [
    {
     "name": "stdout",
     "output_type": "stream",
     "text": [
      "15.5\n"
     ]
    }
   ],
   "source": [
    "sum=x+y\n",
    "print(sum)"
   ]
  },
  {
   "cell_type": "markdown",
   "id": "ae1af135-ca70-489d-84c5-2e2660b54247",
   "metadata": {},
   "source": [
    "###Exponent"
   ]
  },
  {
   "cell_type": "code",
   "execution_count": 3,
   "id": "4e8018c5-ab7e-4b4b-9b33-af3176402b40",
   "metadata": {},
   "outputs": [
    {
     "data": {
      "text/plain": [
       "100"
      ]
     },
     "execution_count": 3,
     "metadata": {},
     "output_type": "execute_result"
    }
   ],
   "source": [
    "a=5\n",
    "b=10\n",
    "b**2"
   ]
  },
  {
   "cell_type": "code",
   "execution_count": 4,
   "id": "671698b6-8d45-4071-b0d1-4d0d2c84c6ee",
   "metadata": {},
   "outputs": [
    {
     "data": {
      "text/plain": [
       "False"
      ]
     },
     "execution_count": 4,
     "metadata": {},
     "output_type": "execute_result"
    }
   ],
   "source": [
    "a==b"
   ]
  },
  {
   "cell_type": "code",
   "execution_count": 5,
   "id": "a0aa5f06-9878-4a7d-9e53-d1fd7e4c4f75",
   "metadata": {},
   "outputs": [
    {
     "data": {
      "text/plain": [
       "True"
      ]
     },
     "execution_count": 5,
     "metadata": {},
     "output_type": "execute_result"
    }
   ],
   "source": [
    "a!=b"
   ]
  },
  {
   "cell_type": "code",
   "execution_count": 6,
   "id": "c96a41e4-0235-4401-9097-c30042cc79ea",
   "metadata": {},
   "outputs": [
    {
     "data": {
      "text/plain": [
       "False"
      ]
     },
     "execution_count": 6,
     "metadata": {},
     "output_type": "execute_result"
    }
   ],
   "source": [
    "a>b"
   ]
  },
  {
   "cell_type": "code",
   "execution_count": 7,
   "id": "ba53e676-a166-4ae5-9286-bae1b10309d2",
   "metadata": {},
   "outputs": [
    {
     "data": {
      "text/plain": [
       "False"
      ]
     },
     "execution_count": 7,
     "metadata": {},
     "output_type": "execute_result"
    }
   ],
   "source": [
    "a>=b"
   ]
  },
  {
   "cell_type": "code",
   "execution_count": 8,
   "id": "7f1ebc6a-f8e3-4e33-9ba3-7ff89279d9b6",
   "metadata": {},
   "outputs": [
    {
     "data": {
      "text/plain": [
       "False"
      ]
     },
     "execution_count": 8,
     "metadata": {},
     "output_type": "execute_result"
    }
   ],
   "source": [
    "###Logical operator\n",
    "x=4\n",
    "y=4\n",
    "z=6\n",
    "x==y and y==z"
   ]
  },
  {
   "cell_type": "code",
   "execution_count": 9,
   "id": "9ba2d2ac-2285-45e6-b1c0-eaa59a3bf027",
   "metadata": {},
   "outputs": [
    {
     "data": {
      "text/plain": [
       "True"
      ]
     },
     "execution_count": 9,
     "metadata": {},
     "output_type": "execute_result"
    }
   ],
   "source": [
    "x==y or y==z"
   ]
  },
  {
   "cell_type": "code",
   "execution_count": 10,
   "id": "c2bf2517-aa3c-4fc1-b897-841ddffb0817",
   "metadata": {},
   "outputs": [
    {
     "data": {
      "text/plain": [
       "False"
      ]
     },
     "execution_count": 10,
     "metadata": {},
     "output_type": "execute_result"
    }
   ],
   "source": [
    "not x==y"
   ]
  },
  {
   "cell_type": "code",
   "execution_count": 11,
   "id": "18fd4eee-fd10-4919-ada5-974774ea8f38",
   "metadata": {},
   "outputs": [
    {
     "data": {
      "text/plain": [
       "False"
      ]
     },
     "execution_count": 11,
     "metadata": {},
     "output_type": "execute_result"
    }
   ],
   "source": [
    "not(x==y)"
   ]
  },
  {
   "cell_type": "code",
   "execution_count": 12,
   "id": "1575ced4-7430-4721-b8a1-8d81cea331e7",
   "metadata": {},
   "outputs": [
    {
     "ename": "NameError",
     "evalue": "name 'desh' is not defined",
     "output_type": "error",
     "traceback": [
      "\u001b[1;31m---------------------------------------------------------------------------\u001b[0m",
      "\u001b[1;31mNameError\u001b[0m                                 Traceback (most recent call last)",
      "Cell \u001b[1;32mIn[12], line 2\u001b[0m\n\u001b[0;32m      1\u001b[0m \u001b[38;5;66;03m#Membarship operator\u001b[39;00m\n\u001b[1;32m----> 2\u001b[0m \u001b[43mdesh\u001b[49m \u001b[38;5;129;01min\u001b[39;00m Bnagladesj\n",
      "\u001b[1;31mNameError\u001b[0m: name 'desh' is not defined"
     ]
    }
   ],
   "source": [
    "#Membarship operator\n",
    "desh in Bnagladesj"
   ]
  },
  {
   "cell_type": "code",
   "execution_count": 13,
   "id": "c2c504f4-7056-42b0-9d31-9bc1f2212376",
   "metadata": {},
   "outputs": [
    {
     "ename": "NameError",
     "evalue": "name 'desh' is not defined",
     "output_type": "error",
     "traceback": [
      "\u001b[1;31m---------------------------------------------------------------------------\u001b[0m",
      "\u001b[1;31mNameError\u001b[0m                                 Traceback (most recent call last)",
      "Cell \u001b[1;32mIn[13], line 1\u001b[0m\n\u001b[1;32m----> 1\u001b[0m \u001b[43mdesh\u001b[49m \u001b[38;5;129;01min\u001b[39;00m Bnagladesh\n",
      "\u001b[1;31mNameError\u001b[0m: name 'desh' is not defined"
     ]
    }
   ],
   "source": [
    "desh in Bnagladesh"
   ]
  },
  {
   "cell_type": "code",
   "execution_count": 14,
   "id": "468f31c3-c244-4827-ac58-d35e59a66ee4",
   "metadata": {},
   "outputs": [
    {
     "data": {
      "text/plain": [
       "True"
      ]
     },
     "execution_count": 14,
     "metadata": {},
     "output_type": "execute_result"
    }
   ],
   "source": [
    "\"desh\" in \"Bnagldesh\""
   ]
  },
  {
   "cell_type": "code",
   "execution_count": 15,
   "id": "1048277a-1141-4ef4-b15e-d8e4dc8cf139",
   "metadata": {},
   "outputs": [
    {
     "data": {
      "text/plain": [
       "False"
      ]
     },
     "execution_count": 15,
     "metadata": {},
     "output_type": "execute_result"
    }
   ],
   "source": [
    "\"deh\" in \"Bangladesh\""
   ]
  },
  {
   "cell_type": "code",
   "execution_count": 16,
   "id": "1c6277c1-27e6-4c3e-b051-b35262712b83",
   "metadata": {},
   "outputs": [
    {
     "data": {
      "text/plain": [
       "False"
      ]
     },
     "execution_count": 16,
     "metadata": {},
     "output_type": "execute_result"
    }
   ],
   "source": [
    "#Identity operator\n",
    "a is b"
   ]
  },
  {
   "cell_type": "code",
   "execution_count": 17,
   "id": "c2c2b1e3-0995-4721-9860-d64d743dab89",
   "metadata": {},
   "outputs": [],
   "source": [
    "###Data Structure\n",
    "#List\n",
    "list_1=['BUET','RUET','EWU','BRAC']\n",
    "list_2=[1,2,3,4]"
   ]
  },
  {
   "cell_type": "code",
   "execution_count": 18,
   "id": "9d93923f-c2b4-44fd-a72c-43c0fc938afe",
   "metadata": {},
   "outputs": [
    {
     "ename": "NameError",
     "evalue": "name 'LIST_1' is not defined",
     "output_type": "error",
     "traceback": [
      "\u001b[1;31m---------------------------------------------------------------------------\u001b[0m",
      "\u001b[1;31mNameError\u001b[0m                                 Traceback (most recent call last)",
      "Cell \u001b[1;32mIn[18], line 1\u001b[0m\n\u001b[1;32m----> 1\u001b[0m \u001b[43mLIST_1\u001b[49m[O]\n",
      "\u001b[1;31mNameError\u001b[0m: name 'LIST_1' is not defined"
     ]
    }
   ],
   "source": [
    "LIST_1[O]"
   ]
  },
  {
   "cell_type": "code",
   "execution_count": 19,
   "id": "bdde81b3-6279-41e4-8c84-ec4c2615cb3f",
   "metadata": {},
   "outputs": [
    {
     "data": {
      "text/plain": [
       "'RUET'"
      ]
     },
     "execution_count": 19,
     "metadata": {},
     "output_type": "execute_result"
    }
   ],
   "source": [
    "list_1[1]"
   ]
  },
  {
   "cell_type": "code",
   "execution_count": 20,
   "id": "24468de6-1773-4ed2-8c11-cca173850191",
   "metadata": {},
   "outputs": [
    {
     "data": {
      "text/plain": [
       "'BUET'"
      ]
     },
     "execution_count": 20,
     "metadata": {},
     "output_type": "execute_result"
    }
   ],
   "source": [
    "list_1[0]"
   ]
  },
  {
   "cell_type": "code",
   "execution_count": 21,
   "id": "3d62fc32-f69e-4b8b-b45d-004a98f78a72",
   "metadata": {},
   "outputs": [
    {
     "ename": "SyntaxError",
     "evalue": "closing parenthesis '}' does not match opening parenthesis '[' (4021546759.py, line 1)",
     "output_type": "error",
     "traceback": [
      "\u001b[1;36m  Cell \u001b[1;32mIn[21], line 1\u001b[1;36m\u001b[0m\n\u001b[1;33m    list_1[0:3}\u001b[0m\n\u001b[1;37m              ^\u001b[0m\n\u001b[1;31mSyntaxError\u001b[0m\u001b[1;31m:\u001b[0m closing parenthesis '}' does not match opening parenthesis '['\n"
     ]
    }
   ],
   "source": [
    "list_1[0:3}"
   ]
  },
  {
   "cell_type": "code",
   "execution_count": 22,
   "id": "e71625b9-8346-4547-8434-c9fcc35db469",
   "metadata": {},
   "outputs": [
    {
     "data": {
      "text/plain": [
       "['BUET', 'RUET', 'EWU']"
      ]
     },
     "execution_count": 22,
     "metadata": {},
     "output_type": "execute_result"
    }
   ],
   "source": [
    "list_1[0:3]"
   ]
  },
  {
   "cell_type": "code",
   "execution_count": 23,
   "id": "752ab038-3c88-457a-96d5-7c7f7599ef80",
   "metadata": {},
   "outputs": [
    {
     "data": {
      "text/plain": [
       "['BUET', 'RUET', 'EWU']"
      ]
     },
     "execution_count": 23,
     "metadata": {},
     "output_type": "execute_result"
    }
   ],
   "source": [
    "list_1[:3]"
   ]
  },
  {
   "cell_type": "code",
   "execution_count": 24,
   "id": "aefce703-8add-4b82-853f-49dab82bc3f6",
   "metadata": {},
   "outputs": [
    {
     "data": {
      "text/plain": [
       "['RUET', 'EWU']"
      ]
     },
     "execution_count": 24,
     "metadata": {},
     "output_type": "execute_result"
    }
   ],
   "source": [
    "list_1[1:3]"
   ]
  },
  {
   "cell_type": "code",
   "execution_count": 25,
   "id": "32510cfa-fa31-40b9-adbe-eee2be362797",
   "metadata": {},
   "outputs": [
    {
     "ename": "NameError",
     "evalue": "name 'list_' is not defined",
     "output_type": "error",
     "traceback": [
      "\u001b[1;31m---------------------------------------------------------------------------\u001b[0m",
      "\u001b[1;31mNameError\u001b[0m                                 Traceback (most recent call last)",
      "Cell \u001b[1;32mIn[25], line 2\u001b[0m\n\u001b[0;32m      1\u001b[0m \u001b[38;5;66;03m#Update list\u001b[39;00m\n\u001b[1;32m----> 2\u001b[0m \u001b[43mlist_\u001b[49m[\u001b[38;5;241m4\u001b[39m]\u001b[38;5;241m.\u001b[39mappend(\u001b[38;5;124m'\u001b[39m\u001b[38;5;124mNSU\u001b[39m\u001b[38;5;124m'\u001b[39m)\n",
      "\u001b[1;31mNameError\u001b[0m: name 'list_' is not defined"
     ]
    }
   ],
   "source": [
    "#Update list\n",
    "list_[4].append('NSU')"
   ]
  },
  {
   "cell_type": "code",
   "execution_count": 26,
   "id": "46a4dd09-bd5a-4d11-b3ef-07fa0dd2ba0e",
   "metadata": {},
   "outputs": [
    {
     "ename": "IndexError",
     "evalue": "list index out of range",
     "output_type": "error",
     "traceback": [
      "\u001b[1;31m---------------------------------------------------------------------------\u001b[0m",
      "\u001b[1;31mIndexError\u001b[0m                                Traceback (most recent call last)",
      "Cell \u001b[1;32mIn[26], line 1\u001b[0m\n\u001b[1;32m----> 1\u001b[0m \u001b[43mlist_1\u001b[49m\u001b[43m[\u001b[49m\u001b[38;5;241;43m4\u001b[39;49m\u001b[43m]\u001b[49m\u001b[38;5;241m.\u001b[39mappend(\u001b[38;5;124m'\u001b[39m\u001b[38;5;124mNSU\u001b[39m\u001b[38;5;124m'\u001b[39m)\n",
      "\u001b[1;31mIndexError\u001b[0m: list index out of range"
     ]
    }
   ],
   "source": [
    "list_1[4].append('NSU')"
   ]
  },
  {
   "cell_type": "code",
   "execution_count": 27,
   "id": "eb442fc6-d9f3-4fd4-b05a-9c2a6039ee80",
   "metadata": {},
   "outputs": [],
   "source": [
    "list_1.append('NSU')"
   ]
  },
  {
   "cell_type": "code",
   "execution_count": 28,
   "id": "31e84a7d-fa9e-4da3-9494-61c06fe77714",
   "metadata": {},
   "outputs": [
    {
     "data": {
      "text/plain": [
       "['BUET', 'RUET', 'EWU', 'BRAC', 'NSU']"
      ]
     },
     "execution_count": 28,
     "metadata": {},
     "output_type": "execute_result"
    }
   ],
   "source": [
    "list_1"
   ]
  },
  {
   "cell_type": "code",
   "execution_count": 29,
   "id": "36999b23-6d37-4bef-a53c-9db608d9edec",
   "metadata": {},
   "outputs": [],
   "source": [
    "list_1.insert(2,'KUET')"
   ]
  },
  {
   "cell_type": "code",
   "execution_count": 30,
   "id": "4b974448-7e46-4fcf-8f99-e74ec750d135",
   "metadata": {},
   "outputs": [
    {
     "data": {
      "text/plain": [
       "['BUET', 'RUET', 'KUET', 'EWU', 'BRAC', 'NSU']"
      ]
     },
     "execution_count": 30,
     "metadata": {},
     "output_type": "execute_result"
    }
   ],
   "source": [
    "list_1"
   ]
  },
  {
   "cell_type": "code",
   "execution_count": 31,
   "id": "e1a7b2d8-8522-4921-9cf5-7fa8b8ff671d",
   "metadata": {},
   "outputs": [],
   "source": [
    "list_1.extend([10,20])"
   ]
  },
  {
   "cell_type": "code",
   "execution_count": 32,
   "id": "0acc7db1-d43d-4cbb-b5b5-702e73eb9cb2",
   "metadata": {},
   "outputs": [
    {
     "data": {
      "text/plain": [
       "['BUET', 'RUET', 'KUET', 'EWU', 'BRAC', 'NSU', 10, 20]"
      ]
     },
     "execution_count": 32,
     "metadata": {},
     "output_type": "execute_result"
    }
   ],
   "source": [
    "list_1"
   ]
  },
  {
   "cell_type": "code",
   "execution_count": 33,
   "id": "9d43342f-7509-47f3-a55a-c286d9dbcb25",
   "metadata": {},
   "outputs": [
    {
     "ename": "NameError",
     "evalue": "name 'list_2' is not defined",
     "output_type": "error",
     "traceback": [
      "\u001b[1;31m---------------------------------------------------------------------------\u001b[0m",
      "\u001b[1;31mNameError\u001b[0m                                 Traceback (most recent call last)",
      "Cell \u001b[1;32mIn[33], line 1\u001b[0m\n\u001b[1;32m----> 1\u001b[0m list_1\u001b[38;5;241m+\u001b[39m\u001b[43mlist_2\u001b[49m\n",
      "\u001b[1;31mNameError\u001b[0m: name 'list_2' is not defined"
     ]
    }
   ],
   "source": [
    "list_1+list_2"
   ]
  },
  {
   "cell_type": "code",
   "execution_count": 34,
   "id": "a787f77a-3900-4201-a547-a49d96a7a568",
   "metadata": {},
   "outputs": [
    {
     "ename": "NameError",
     "evalue": "name 'list_2' is not defined",
     "output_type": "error",
     "traceback": [
      "\u001b[1;31m---------------------------------------------------------------------------\u001b[0m",
      "\u001b[1;31mNameError\u001b[0m                                 Traceback (most recent call last)",
      "Cell \u001b[1;32mIn[34], line 1\u001b[0m\n\u001b[1;32m----> 1\u001b[0m list_1\u001b[38;5;241m+\u001b[39m\u001b[43mlist_2\u001b[49m\n",
      "\u001b[1;31mNameError\u001b[0m: name 'list_2' is not defined"
     ]
    }
   ],
   "source": [
    "list_1+list_2"
   ]
  },
  {
   "cell_type": "code",
   "execution_count": 35,
   "id": "94f752d0-9cec-4471-85f4-7d0c9e891858",
   "metadata": {},
   "outputs": [
    {
     "ename": "NameError",
     "evalue": "name 'list_2' is not defined",
     "output_type": "error",
     "traceback": [
      "\u001b[1;31m---------------------------------------------------------------------------\u001b[0m",
      "\u001b[1;31mNameError\u001b[0m                                 Traceback (most recent call last)",
      "Cell \u001b[1;32mIn[35], line 1\u001b[0m\n\u001b[1;32m----> 1\u001b[0m \u001b[43mlist_2\u001b[49m\n",
      "\u001b[1;31mNameError\u001b[0m: name 'list_2' is not defined"
     ]
    }
   ],
   "source": [
    "list_2"
   ]
  },
  {
   "cell_type": "code",
   "execution_count": 36,
   "id": "555c556c-1e2b-4523-bc56-b785e023cfa6",
   "metadata": {},
   "outputs": [],
   "source": [
    "list_2=[1,2,3]"
   ]
  },
  {
   "cell_type": "code",
   "execution_count": 37,
   "id": "a52deda4-7381-4b97-99d4-a5551ddbac09",
   "metadata": {},
   "outputs": [
    {
     "data": {
      "text/plain": [
       "[1, 2, 3]"
      ]
     },
     "execution_count": 37,
     "metadata": {},
     "output_type": "execute_result"
    }
   ],
   "source": [
    "list_2"
   ]
  },
  {
   "cell_type": "code",
   "execution_count": 38,
   "id": "b1066dd8-5a61-4f88-943d-9ac0fbccbe7d",
   "metadata": {},
   "outputs": [
    {
     "data": {
      "text/plain": [
       "['BUET', 'RUET', 'KUET', 'EWU', 'BRAC', 'NSU', 10, 20, 1, 2, 3]"
      ]
     },
     "execution_count": 38,
     "metadata": {},
     "output_type": "execute_result"
    }
   ],
   "source": [
    "list_1+list_2"
   ]
  },
  {
   "cell_type": "code",
   "execution_count": 40,
   "id": "74e7e008-8667-4dc8-aaa9-7259cd6768de",
   "metadata": {},
   "outputs": [],
   "source": [
    "#Remove item\n",
    "del list_1[:7]"
   ]
  },
  {
   "cell_type": "code",
   "execution_count": 41,
   "id": "1ad2c43a-97cb-4d34-9107-4de80b06310d",
   "metadata": {},
   "outputs": [
    {
     "data": {
      "text/plain": [
       "[]"
      ]
     },
     "execution_count": 41,
     "metadata": {},
     "output_type": "execute_result"
    }
   ],
   "source": [
    "list_1"
   ]
  },
  {
   "cell_type": "code",
   "execution_count": 42,
   "id": "f827688c-b807-4179-90a3-9c95d2df21bf",
   "metadata": {},
   "outputs": [
    {
     "ename": "ValueError",
     "evalue": "list.remove(x): x not in list",
     "output_type": "error",
     "traceback": [
      "\u001b[1;31m---------------------------------------------------------------------------\u001b[0m",
      "\u001b[1;31mValueError\u001b[0m                                Traceback (most recent call last)",
      "Cell \u001b[1;32mIn[42], line 1\u001b[0m\n\u001b[1;32m----> 1\u001b[0m \u001b[43mlist_1\u001b[49m\u001b[38;5;241;43m.\u001b[39;49m\u001b[43mremove\u001b[49m\u001b[43m(\u001b[49m\u001b[38;5;241;43m10\u001b[39;49m\u001b[43m)\u001b[49m\n",
      "\u001b[1;31mValueError\u001b[0m: list.remove(x): x not in list"
     ]
    }
   ],
   "source": [
    "list_1.remove(10)"
   ]
  },
  {
   "cell_type": "code",
   "execution_count": 43,
   "id": "3edb1ed9-115c-4c56-bc89-44db5ca35099",
   "metadata": {},
   "outputs": [
    {
     "ename": "IndexError",
     "evalue": "list assignment index out of range",
     "output_type": "error",
     "traceback": [
      "\u001b[1;31m---------------------------------------------------------------------------\u001b[0m",
      "\u001b[1;31mIndexError\u001b[0m                                Traceback (most recent call last)",
      "Cell \u001b[1;32mIn[43], line 1\u001b[0m\n\u001b[1;32m----> 1\u001b[0m \u001b[38;5;28;01mdel\u001b[39;00m list_1[\u001b[38;5;241m-\u001b[39m\u001b[38;5;241m2\u001b[39m]\n",
      "\u001b[1;31mIndexError\u001b[0m: list assignment index out of range"
     ]
    }
   ],
   "source": [
    "del list_1[-2]"
   ]
  },
  {
   "cell_type": "code",
   "execution_count": 44,
   "id": "0c3c8837-f004-494a-ab36-85fc39155030",
   "metadata": {},
   "outputs": [
    {
     "data": {
      "text/plain": [
       "[]"
      ]
     },
     "execution_count": 44,
     "metadata": {},
     "output_type": "execute_result"
    }
   ],
   "source": [
    "list_1"
   ]
  },
  {
   "cell_type": "code",
   "execution_count": 45,
   "id": "2cd064e7-b1a5-49ce-bb1b-ae6e5df1e4ae",
   "metadata": {},
   "outputs": [],
   "source": [
    "#List\n",
    "list_1=['BUET','RUET','EWU','BRAC']\n",
    "list_2=[1,2,3,4]"
   ]
  },
  {
   "cell_type": "code",
   "execution_count": 46,
   "id": "c900e08c-7368-4f29-8ac4-b670ab086cca",
   "metadata": {},
   "outputs": [
    {
     "data": {
      "text/plain": [
       "['BUET', 'RUET', 'EWU', 'BRAC']"
      ]
     },
     "execution_count": 46,
     "metadata": {},
     "output_type": "execute_result"
    }
   ],
   "source": [
    "list_1"
   ]
  },
  {
   "cell_type": "code",
   "execution_count": 47,
   "id": "f41a7437-fd63-4ef8-bd5d-ce3153dc6146",
   "metadata": {},
   "outputs": [
    {
     "ename": "TypeError",
     "evalue": "list.append() takes exactly one argument (7 given)",
     "output_type": "error",
     "traceback": [
      "\u001b[1;31m---------------------------------------------------------------------------\u001b[0m",
      "\u001b[1;31mTypeError\u001b[0m                                 Traceback (most recent call last)",
      "Cell \u001b[1;32mIn[47], line 1\u001b[0m\n\u001b[1;32m----> 1\u001b[0m \u001b[43mlist_1\u001b[49m\u001b[38;5;241;43m.\u001b[39;49m\u001b[43mappend\u001b[49m\u001b[43m(\u001b[49m\u001b[38;5;124;43m'\u001b[39;49m\u001b[38;5;124;43mNSU\u001b[39;49m\u001b[38;5;124;43m'\u001b[39;49m\u001b[43m,\u001b[49m\u001b[38;5;124;43m'\u001b[39;49m\u001b[38;5;124;43mNSTU\u001b[39;49m\u001b[38;5;124;43m'\u001b[39;49m\u001b[43m,\u001b[49m\u001b[43m \u001b[49m\u001b[38;5;241;43m10\u001b[39;49m\u001b[43m,\u001b[49m\u001b[38;5;241;43m20\u001b[39;49m\u001b[43m,\u001b[49m\u001b[38;5;241;43m30\u001b[39;49m\u001b[43m,\u001b[49m\u001b[38;5;241;43m40\u001b[39;49m\u001b[43m,\u001b[49m\u001b[38;5;241;43m50\u001b[39;49m\u001b[43m)\u001b[49m\n",
      "\u001b[1;31mTypeError\u001b[0m: list.append() takes exactly one argument (7 given)"
     ]
    }
   ],
   "source": [
    "list_1.append('NSU','NSTU', 10,20,30,40,50)"
   ]
  },
  {
   "cell_type": "code",
   "execution_count": 48,
   "id": "ba8e9266-d53b-4322-b7af-31a067dd78e3",
   "metadata": {},
   "outputs": [],
   "source": [
    "list_1.append('NSU')"
   ]
  },
  {
   "cell_type": "code",
   "execution_count": 49,
   "id": "40ec1010-7db1-40a1-bd6d-21db8de84fd3",
   "metadata": {},
   "outputs": [
    {
     "data": {
      "text/plain": [
       "['BUET', 'RUET', 'EWU', 'BRAC', 'NSU']"
      ]
     },
     "execution_count": 49,
     "metadata": {},
     "output_type": "execute_result"
    }
   ],
   "source": [
    "list_1"
   ]
  },
  {
   "cell_type": "code",
   "execution_count": 50,
   "id": "844089ed-8692-402c-bf55-12f628da63a1",
   "metadata": {},
   "outputs": [],
   "source": [
    "list_1.append(10)"
   ]
  },
  {
   "cell_type": "code",
   "execution_count": 51,
   "id": "fe699677-6ec7-487d-96c1-bb180e65ed8f",
   "metadata": {},
   "outputs": [
    {
     "data": {
      "text/plain": [
       "['BUET', 'RUET', 'EWU', 'BRAC', 'NSU', 10]"
      ]
     },
     "execution_count": 51,
     "metadata": {},
     "output_type": "execute_result"
    }
   ],
   "source": [
    "list_1"
   ]
  },
  {
   "cell_type": "code",
   "execution_count": 52,
   "id": "0ba08388-ff7e-4d0a-8d3a-4b664d21a765",
   "metadata": {},
   "outputs": [],
   "source": [
    "list_1+=['RUET','RUET','RUET']"
   ]
  },
  {
   "cell_type": "code",
   "execution_count": 53,
   "id": "b76c7ee0-b67a-443a-81ef-73d07d859047",
   "metadata": {},
   "outputs": [
    {
     "data": {
      "text/plain": [
       "['BUET', 'RUET', 'EWU', 'BRAC', 'NSU', 10, 'RUET', 'RUET', 'RUET']"
      ]
     },
     "execution_count": 53,
     "metadata": {},
     "output_type": "execute_result"
    }
   ],
   "source": [
    "list_1"
   ]
  },
  {
   "cell_type": "code",
   "execution_count": 54,
   "id": "c9d17e8d-97d6-44d5-8f6c-8b7fafde9352",
   "metadata": {},
   "outputs": [
    {
     "data": {
      "text/plain": [
       "4"
      ]
     },
     "execution_count": 54,
     "metadata": {},
     "output_type": "execute_result"
    }
   ],
   "source": [
    "list_1.count('RUET')"
   ]
  },
  {
   "cell_type": "code",
   "execution_count": 55,
   "id": "1e1703ab-2069-491a-ab7d-f342d9aa84ff",
   "metadata": {},
   "outputs": [],
   "source": [
    "list_3=['b','c','e','a']"
   ]
  },
  {
   "cell_type": "code",
   "execution_count": 56,
   "id": "217407d0-685e-49c4-a906-1b0ba713f22e",
   "metadata": {},
   "outputs": [
    {
     "data": {
      "text/plain": [
       "['b', 'c', 'e', 'a']"
      ]
     },
     "execution_count": 56,
     "metadata": {},
     "output_type": "execute_result"
    }
   ],
   "source": [
    "list_3"
   ]
  },
  {
   "cell_type": "code",
   "execution_count": 57,
   "id": "01a33385-d499-4b6c-b2a6-8429c34f922d",
   "metadata": {},
   "outputs": [
    {
     "data": {
      "text/plain": [
       "['a', 'b', 'c', 'e']"
      ]
     },
     "execution_count": 57,
     "metadata": {},
     "output_type": "execute_result"
    }
   ],
   "source": [
    "sorted(list_3)"
   ]
  },
  {
   "cell_type": "code",
   "execution_count": 58,
   "id": "eef7f6bc-fac8-4bea-adcb-e272635eae87",
   "metadata": {},
   "outputs": [
    {
     "ename": "SyntaxError",
     "evalue": "cannot assign to literal here. Maybe you meant '==' instead of '='? (3700016245.py, line 2)",
     "output_type": "error",
     "traceback": [
      "\u001b[1;36m  Cell \u001b[1;32mIn[58], line 2\u001b[1;36m\u001b[0m\n\u001b[1;33m    dict={'b'='BUET','r'='RUET','k'='KUET','e'='EWU','n'='NSU'}\u001b[0m\n\u001b[1;37m          ^\u001b[0m\n\u001b[1;31mSyntaxError\u001b[0m\u001b[1;31m:\u001b[0m cannot assign to literal here. Maybe you meant '==' instead of '='?\n"
     ]
    }
   ],
   "source": [
    "###MarkdownDictionary\n",
    "dict={'b'='BUET','r'='RUET','k'='KUET','e'='EWU','n'='NSU'}"
   ]
  },
  {
   "cell_type": "code",
   "execution_count": 59,
   "id": "16453d98-b365-4ef6-9456-e6f3136f1a29",
   "metadata": {},
   "outputs": [
    {
     "ename": "SyntaxError",
     "evalue": "cannot assign to literal here. Maybe you meant '==' instead of '='? (2907228017.py, line 1)",
     "output_type": "error",
     "traceback": [
      "\u001b[1;36m  Cell \u001b[1;32mIn[59], line 1\u001b[1;36m\u001b[0m\n\u001b[1;33m    dict={'b'='BUET','r'='RUET','k':'KUET','e':'EWU','n':'NSU'}\u001b[0m\n\u001b[1;37m          ^\u001b[0m\n\u001b[1;31mSyntaxError\u001b[0m\u001b[1;31m:\u001b[0m cannot assign to literal here. Maybe you meant '==' instead of '='?\n"
     ]
    }
   ],
   "source": [
    "dict={'b'='BUET','r'='RUET','k':'KUET','e':'EWU','n':'NSU'}"
   ]
  },
  {
   "cell_type": "code",
   "execution_count": 60,
   "id": "f750d479-48a8-433f-a6fb-d302ed7d38f5",
   "metadata": {},
   "outputs": [],
   "source": [
    "dict={'b':'BUET','r':'RUET','k':'KUET','e':'EWU','n':'NSU'}"
   ]
  },
  {
   "cell_type": "code",
   "execution_count": 61,
   "id": "32488d5e-31be-4f59-b9b9-14c025b260f7",
   "metadata": {},
   "outputs": [
    {
     "ename": "NameError",
     "evalue": "name 'DICT' is not defined",
     "output_type": "error",
     "traceback": [
      "\u001b[1;31m---------------------------------------------------------------------------\u001b[0m",
      "\u001b[1;31mNameError\u001b[0m                                 Traceback (most recent call last)",
      "Cell \u001b[1;32mIn[61], line 1\u001b[0m\n\u001b[1;32m----> 1\u001b[0m \u001b[43mDICT\u001b[49m\n",
      "\u001b[1;31mNameError\u001b[0m: name 'DICT' is not defined"
     ]
    }
   ],
   "source": [
    "DICT"
   ]
  },
  {
   "cell_type": "code",
   "execution_count": 62,
   "id": "a23931d2-dcc0-4902-bc81-ebc05a6f932c",
   "metadata": {},
   "outputs": [
    {
     "data": {
      "text/plain": [
       "{'b': 'BUET', 'r': 'RUET', 'k': 'KUET', 'e': 'EWU', 'n': 'NSU'}"
      ]
     },
     "execution_count": 62,
     "metadata": {},
     "output_type": "execute_result"
    }
   ],
   "source": [
    "dict"
   ]
  },
  {
   "cell_type": "code",
   "execution_count": 63,
   "id": "79ca00e9-5bcb-487f-aa41-669da8d3a173",
   "metadata": {},
   "outputs": [
    {
     "data": {
      "text/plain": [
       "'NSU'"
      ]
     },
     "execution_count": 63,
     "metadata": {},
     "output_type": "execute_result"
    }
   ],
   "source": [
    "dict['n']"
   ]
  },
  {
   "cell_type": "code",
   "execution_count": 64,
   "id": "ff9cd71f-378d-4b70-8090-a94777d87fbe",
   "metadata": {},
   "outputs": [],
   "source": [
    "dict['r']='RU'"
   ]
  },
  {
   "cell_type": "code",
   "execution_count": 65,
   "id": "9012976c-64a5-4acc-abaf-77f91aca0ec0",
   "metadata": {},
   "outputs": [
    {
     "data": {
      "text/plain": [
       "{'b': 'BUET', 'r': 'RU', 'k': 'KUET', 'e': 'EWU', 'n': 'NSU'}"
      ]
     },
     "execution_count": 65,
     "metadata": {},
     "output_type": "execute_result"
    }
   ],
   "source": [
    "dict"
   ]
  },
  {
   "cell_type": "code",
   "execution_count": 66,
   "id": "63882a1b-72e7-468f-97c9-97348badcd5c",
   "metadata": {},
   "outputs": [
    {
     "data": {
      "text/plain": [
       "dict_keys(['b', 'r', 'k', 'e', 'n'])"
      ]
     },
     "execution_count": 66,
     "metadata": {},
     "output_type": "execute_result"
    }
   ],
   "source": [
    "dict.keys()"
   ]
  },
  {
   "cell_type": "code",
   "execution_count": 67,
   "id": "045ec0e5-0213-440d-affc-0d187d0b094f",
   "metadata": {},
   "outputs": [
    {
     "data": {
      "text/plain": [
       "dict_values(['BUET', 'RU', 'KUET', 'EWU', 'NSU'])"
      ]
     },
     "execution_count": 67,
     "metadata": {},
     "output_type": "execute_result"
    }
   ],
   "source": [
    "dict.values()"
   ]
  },
  {
   "cell_type": "code",
   "execution_count": 68,
   "id": "5f3010ee-cb8c-43c1-877e-8a62b873eb5c",
   "metadata": {},
   "outputs": [],
   "source": [
    "#Set\n",
    "s={1,2,3,4,5,66,6,7,4,4}"
   ]
  },
  {
   "cell_type": "code",
   "execution_count": 69,
   "id": "f58d824e-dab7-471d-9e1c-1769f0f3d393",
   "metadata": {},
   "outputs": [
    {
     "data": {
      "text/plain": [
       "{1, 2, 3, 4, 5, 6, 7, 66}"
      ]
     },
     "execution_count": 69,
     "metadata": {},
     "output_type": "execute_result"
    }
   ],
   "source": [
    "s"
   ]
  },
  {
   "cell_type": "code",
   "execution_count": 70,
   "id": "f4bad6da-67e3-485a-ac37-9c407b6dfe5f",
   "metadata": {},
   "outputs": [],
   "source": [
    "#String\n",
    "string='England'"
   ]
  },
  {
   "cell_type": "code",
   "execution_count": 71,
   "id": "2934505f-10d3-4f21-8330-fc952ebef0b8",
   "metadata": {},
   "outputs": [
    {
     "data": {
      "text/plain": [
       "'England'"
      ]
     },
     "execution_count": 71,
     "metadata": {},
     "output_type": "execute_result"
    }
   ],
   "source": [
    "string"
   ]
  },
  {
   "cell_type": "code",
   "execution_count": 72,
   "id": "3ade7ce8-bd70-4048-87e5-c3e19cf5f631",
   "metadata": {},
   "outputs": [],
   "source": [
    "string=\"England\""
   ]
  },
  {
   "cell_type": "code",
   "execution_count": 73,
   "id": "6a473ca7-5078-475a-ac44-e8d83547b482",
   "metadata": {},
   "outputs": [
    {
     "data": {
      "text/plain": [
       "'England'"
      ]
     },
     "execution_count": 73,
     "metadata": {},
     "output_type": "execute_result"
    }
   ],
   "source": [
    "string"
   ]
  },
  {
   "cell_type": "code",
   "execution_count": null,
   "id": "cc668e18-266f-49fc-bb50-ee82ce274f84",
   "metadata": {},
   "outputs": [],
   "source": []
  }
 ],
 "metadata": {
  "kernelspec": {
   "display_name": "Python 3 (ipykernel)",
   "language": "python",
   "name": "python3"
  },
  "language_info": {
   "codemirror_mode": {
    "name": "ipython",
    "version": 3
   },
   "file_extension": ".py",
   "mimetype": "text/x-python",
   "name": "python",
   "nbconvert_exporter": "python",
   "pygments_lexer": "ipython3",
   "version": "3.10.10"
  }
 },
 "nbformat": 4,
 "nbformat_minor": 5
}
