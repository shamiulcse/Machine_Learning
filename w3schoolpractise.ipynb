{
 "cells": [
  {
   "cell_type": "code",
   "execution_count": 1,
   "id": "31b1a208-0295-46b3-94dc-510b9f1dc294",
   "metadata": {},
   "outputs": [
    {
     "name": "stdout",
     "output_type": "stream",
     "text": [
      "HelloWorld\n"
     ]
    }
   ],
   "source": [
    "a=\"Hello\"\n",
    "b=\"World\"\n",
    "c=a+b\n",
    "print(c)"
   ]
  },
  {
   "cell_type": "code",
   "execution_count": 2,
   "id": "8283116b-8ef8-412e-8bfe-cfdd0b5e062f",
   "metadata": {},
   "outputs": [
    {
     "name": "stdout",
     "output_type": "stream",
     "text": [
      "hello World\n"
     ]
    }
   ],
   "source": [
    "a=\"hello\"\n",
    "b=\"World\"\n",
    "c=a+ \" \" +b\n",
    "print(c)"
   ]
  },
  {
   "cell_type": "code",
   "execution_count": 3,
   "id": "ad7715f8-e971-4ed1-8f18-3341197a7053",
   "metadata": {},
   "outputs": [
    {
     "ename": "TypeError",
     "evalue": "can only concatenate str (not \"int\") to str",
     "output_type": "error",
     "traceback": [
      "\u001b[1;31m---------------------------------------------------------------------------\u001b[0m",
      "\u001b[1;31mTypeError\u001b[0m                                 Traceback (most recent call last)",
      "Cell \u001b[1;32mIn[3], line 2\u001b[0m\n\u001b[0;32m      1\u001b[0m age\u001b[38;5;241m=\u001b[39m\u001b[38;5;241m36\u001b[39m\n\u001b[1;32m----> 2\u001b[0m text\u001b[38;5;241m=\u001b[39m\u001b[38;5;124;43m\"\u001b[39;49m\u001b[38;5;124;43mMy name is Jhon. and I am \u001b[39;49m\u001b[38;5;124;43m\"\u001b[39;49m\u001b[43m \u001b[49m\u001b[38;5;241;43m+\u001b[39;49m\u001b[43mage\u001b[49m\n\u001b[0;32m      3\u001b[0m \u001b[38;5;28mprint\u001b[39m(text)\n",
      "\u001b[1;31mTypeError\u001b[0m: can only concatenate str (not \"int\") to str"
     ]
    }
   ],
   "source": [
    "age=36\n",
    "text=\"My name is Jhon. and I am \" +age\n",
    "print(text)"
   ]
  },
  {
   "cell_type": "code",
   "execution_count": 4,
   "id": "cc98c947-f059-4f60-9380-e50dbee13d5f",
   "metadata": {},
   "outputs": [
    {
     "name": "stdout",
     "output_type": "stream",
     "text": [
      "My name is John, and I am 36\n"
     ]
    }
   ],
   "source": [
    "#String and Numbers can not add directly but we can do it via format() method\n",
    "age=36\n",
    "text=\"My name is John, and I am {}\"\n",
    "print(text.format(age))"
   ]
  },
  {
   "cell_type": "code",
   "execution_count": 6,
   "id": "e9b947ce-e439-4719-9e27-735bb91ed317",
   "metadata": {},
   "outputs": [
    {
     "name": "stdout",
     "output_type": "stream",
     "text": [
      "I want 4 pieces of item 1234 for 100.99 dollars.\n"
     ]
    }
   ],
   "source": [
    "#this format() method takes unlimited number of aguments , and are placed into the respection placeholder.\n",
    "quantity=4\n",
    "itemno=1234\n",
    "price=100.99\n",
    "myorder=\"I want {} pieces of item {} for {} dollars.\"\n",
    "print(myorder.format(quantity,itemno,price))"
   ]
  },
  {
   "cell_type": "code",
   "execution_count": 8,
   "id": "2a3ad3ae-0f2c-4e7f-b52b-4086e4a97e7c",
   "metadata": {},
   "outputs": [
    {
     "name": "stdout",
     "output_type": "stream",
     "text": [
      "I want to pay 100.99 dollars for 4 pieces of item 1234.\n"
     ]
    }
   ],
   "source": [
    "myorder=\"I want to pay {2} dollars for {0} pieces of item {1}.\"\n",
    "print(myorder.format(quantity,itemno,price))"
   ]
  },
  {
   "cell_type": "code",
   "execution_count": 9,
   "id": "80128b71-4591-4cca-be70-52ba1c683b1c",
   "metadata": {},
   "outputs": [
    {
     "name": "stdout",
     "output_type": "stream",
     "text": [
      "['apple', 'banana', 'cherry']\n"
     ]
    }
   ],
   "source": [
    "mylist=[\"apple\",\"banana\",\"cherry\"]\n",
    "print(mylist)"
   ]
  },
  {
   "cell_type": "code",
   "execution_count": 10,
   "id": "8e9d51f9-d621-415d-83bd-3546dd3a9079",
   "metadata": {},
   "outputs": [
    {
     "name": "stdout",
     "output_type": "stream",
     "text": [
      "['apple', 'blackcurrant', 'cherry']\n"
     ]
    }
   ],
   "source": [
    "mylist[1]=\"blackcurrant\"\n",
    "print(mylist)"
   ]
  },
  {
   "cell_type": "code",
   "execution_count": 11,
   "id": "a64782a3-a577-44c3-b962-c87af52048ac",
   "metadata": {},
   "outputs": [
    {
     "name": "stdout",
     "output_type": "stream",
     "text": [
      "['apple', 'blackcurrant', 'cherry']\n"
     ]
    }
   ],
   "source": [
    "print(mylist)"
   ]
  },
  {
   "cell_type": "code",
   "execution_count": 14,
   "id": "75cc08be-758b-4177-a47a-6cfec373ef80",
   "metadata": {},
   "outputs": [
    {
     "name": "stdout",
     "output_type": "stream",
     "text": [
      "['apple', 'blackcurrant', 'watermelon', 'orange', 'kiwi', 'mango']\n"
     ]
    }
   ],
   "source": [
    "thislist=[\"apple\",\"banana\",\"cherry\",\"orange\",\"kiwi\",\"mango\"]\n",
    "thislist[1:3]=[\"blackcurrant\",\"watermelon\"]\n",
    "print(thislist)"
   ]
  },
  {
   "cell_type": "code",
   "execution_count": 15,
   "id": "09e22f3f-57f6-4914-87a7-9e403f93057a",
   "metadata": {},
   "outputs": [
    {
     "name": "stdout",
     "output_type": "stream",
     "text": [
      "['apple', 'blackcurrant', 'bal', 'watermelon', 'orange', 'kiwi', 'mango']\n"
     ]
    }
   ],
   "source": [
    "thislist.insert(2,\"bal\")\n",
    "print(thislist)"
   ]
  },
  {
   "cell_type": "code",
   "execution_count": 16,
   "id": "3e41b123-dc55-45b0-8520-57581de1cbca",
   "metadata": {},
   "outputs": [
    {
     "name": "stdout",
     "output_type": "stream",
     "text": [
      "['apple', 'blackcurrant', 'bal', 'watermelon', 'orange', 'kiwi', 'mango', 'rvalolagena']\n"
     ]
    }
   ],
   "source": [
    "thislist.append(\"rvalolagena\")\n",
    "print(thislist)"
   ]
  },
  {
   "cell_type": "code",
   "execution_count": 17,
   "id": "3c7821e0-e07e-4b96-b5dc-c8d5d9349d66",
   "metadata": {},
   "outputs": [
    {
     "name": "stdout",
     "output_type": "stream",
     "text": [
      "['apple', 'blackcurrant', 'bal', 'watermelon', 'orange', 'kiwi', 'mango', 'rvalolagena', 'khrapa', 'valonai', 'kivabe']\n"
     ]
    }
   ],
   "source": [
    "listthis=[\"khrapa\",\"valonai\",\"kivabe\"]\n",
    "thislist.extend(listthis)\n",
    "print(thislist)"
   ]
  },
  {
   "cell_type": "code",
   "execution_count": 18,
   "id": "58b34cf4-e6b8-4d9f-942e-0eaa17bfcad5",
   "metadata": {},
   "outputs": [
    {
     "name": "stdout",
     "output_type": "stream",
     "text": [
      "['apple', 'blackcurrant', 'bal', 'watermelon', 'orange', 'kiwi', 'mango', 'rvalolagena', 'khrapa', 'valonai']\n"
     ]
    }
   ],
   "source": [
    "thislist.remove(\"kivabe\")\n",
    "print(thislist)"
   ]
  },
  {
   "cell_type": "code",
   "execution_count": 19,
   "id": "4ab8c4a2-635b-441e-9089-544a7dbcbfb0",
   "metadata": {},
   "outputs": [
    {
     "name": "stdout",
     "output_type": "stream",
     "text": [
      "['apple', 'blackcurrant', 'watermelon', 'orange', 'kiwi', 'mango', 'rvalolagena', 'khrapa', 'valonai']\n"
     ]
    }
   ],
   "source": [
    "thislist.pop(2)\n",
    "print(thislist)"
   ]
  },
  {
   "cell_type": "code",
   "execution_count": 20,
   "id": "a5c92b63-052b-4ab1-a434-515d26e69f31",
   "metadata": {},
   "outputs": [],
   "source": [
    "del thislist"
   ]
  },
  {
   "cell_type": "code",
   "execution_count": 21,
   "id": "b8a406bf-9b86-4449-93d7-a9d7da0873a6",
   "metadata": {},
   "outputs": [
    {
     "ename": "NameError",
     "evalue": "name 'thislist' is not defined",
     "output_type": "error",
     "traceback": [
      "\u001b[1;31m---------------------------------------------------------------------------\u001b[0m",
      "\u001b[1;31mNameError\u001b[0m                                 Traceback (most recent call last)",
      "Cell \u001b[1;32mIn[21], line 1\u001b[0m\n\u001b[1;32m----> 1\u001b[0m \u001b[38;5;28mprint\u001b[39m(\u001b[43mthislist\u001b[49m)\n",
      "\u001b[1;31mNameError\u001b[0m: name 'thislist' is not defined"
     ]
    }
   ],
   "source": [
    "print(thislist)"
   ]
  },
  {
   "cell_type": "code",
   "execution_count": 23,
   "id": "bdbfb493-57ac-498c-b1d7-e41d38f61923",
   "metadata": {},
   "outputs": [
    {
     "name": "stdout",
     "output_type": "stream",
     "text": [
      "['dur', 'bal', 'ar', 'valo', 'lage', 'na']\n"
     ]
    }
   ],
   "source": [
    "list_1=[\"dur\",\"bal\",\"ar\",\"valo\",\"lage\",\"na\"]\n",
    "print(list_1)"
   ]
  },
  {
   "cell_type": "code",
   "execution_count": 24,
   "id": "7607b6fc-8af9-4f80-bd83-1c7a3f09d58f",
   "metadata": {},
   "outputs": [],
   "source": [
    "list_1.clear()"
   ]
  },
  {
   "cell_type": "code",
   "execution_count": 25,
   "id": "e4620b89-4547-4f2d-b460-f8fce880b185",
   "metadata": {},
   "outputs": [
    {
     "name": "stdout",
     "output_type": "stream",
     "text": [
      "[]\n"
     ]
    }
   ],
   "source": [
    "print(list_1)"
   ]
  },
  {
   "cell_type": "code",
   "execution_count": 26,
   "id": "0f551166-d67d-40de-8507-7d4b6327cc31",
   "metadata": {},
   "outputs": [
    {
     "name": "stdout",
     "output_type": "stream",
     "text": [
      "['oranage', 'mango', 'kiwi', 'pineaaple', 'banana']\n"
     ]
    }
   ],
   "source": [
    "list_2=[\"oranage\",\"mango\",\"kiwi\",\"pineaaple\",\"banana\"]\n",
    "print(list_2)"
   ]
  },
  {
   "cell_type": "code",
   "execution_count": 27,
   "id": "f79cc3e2-a347-4ca0-9939-b191c4638611",
   "metadata": {},
   "outputs": [
    {
     "name": "stdout",
     "output_type": "stream",
     "text": [
      "['banana', 'kiwi', 'mango', 'oranage', 'pineaaple']\n"
     ]
    }
   ],
   "source": [
    "list_2.sort()\n",
    "print(list_2)"
   ]
  },
  {
   "cell_type": "code",
   "execution_count": 28,
   "id": "afa558b7-9353-40c3-9d40-abba0a46cd88",
   "metadata": {},
   "outputs": [
    {
     "name": "stdout",
     "output_type": "stream",
     "text": [
      "[12, 13, 12, 14, 15, 16, 11, 10, 1, 2, 3, 90, 89, 67]\n"
     ]
    }
   ],
   "source": [
    "list_3=[12,13,12,14,15,16,11,10,1,2,3,90,89,67]\n",
    "print(list_3)"
   ]
  },
  {
   "cell_type": "code",
   "execution_count": 29,
   "id": "8d04cb1f-0d2c-4c30-854b-e29b7e1c80a3",
   "metadata": {},
   "outputs": [
    {
     "name": "stdout",
     "output_type": "stream",
     "text": [
      "[1, 2, 3, 10, 11, 12, 12, 13, 14, 15, 16, 67, 89, 90]\n"
     ]
    }
   ],
   "source": [
    "list_3.sort()\n",
    "print(list_3)"
   ]
  },
  {
   "cell_type": "code",
   "execution_count": 31,
   "id": "0ae78efd-f582-40d6-99d5-b1478e24ca1a",
   "metadata": {},
   "outputs": [
    {
     "name": "stdout",
     "output_type": "stream",
     "text": [
      "['a', 'b', 'c', 'd', 1, 2, 3, 4, 5, 6]\n"
     ]
    }
   ],
   "source": [
    "list_4=[\"a\",\"b\",\"c\",\"d\"]\n",
    "list_5=[1,2,3,4,5,6]\n",
    "list_6=list_4+list_5\n",
    "print(list_6)"
   ]
  },
  {
   "cell_type": "code",
   "execution_count": 32,
   "id": "a1e27e5f-b24c-43ef-951f-940ccc5127f6",
   "metadata": {},
   "outputs": [
    {
     "name": "stdout",
     "output_type": "stream",
     "text": [
      "['a', 'b', 'c', 'd', 1, 2, 3, 4, 5, 6, 20, 30, 40, 50]\n"
     ]
    }
   ],
   "source": [
    "list_7=[20,30,40,50]\n",
    "for x in list_7:\n",
    "    list_6.append(x)\n",
    "print(list_6)"
   ]
  },
  {
   "cell_type": "code",
   "execution_count": null,
   "id": "a6366dab-c20e-43b5-9f19-86c52a2c0d59",
   "metadata": {},
   "outputs": [],
   "source": []
  }
 ],
 "metadata": {
  "kernelspec": {
   "display_name": "Python 3 (ipykernel)",
   "language": "python",
   "name": "python3"
  },
  "language_info": {
   "codemirror_mode": {
    "name": "ipython",
    "version": 3
   },
   "file_extension": ".py",
   "mimetype": "text/x-python",
   "name": "python",
   "nbconvert_exporter": "python",
   "pygments_lexer": "ipython3",
   "version": "3.10.10"
  }
 },
 "nbformat": 4,
 "nbformat_minor": 5
}
